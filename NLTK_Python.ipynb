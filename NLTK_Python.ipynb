{
 "cells": [
  {
   "cell_type": "markdown",
   "metadata": {
    "id": "pqmsjRuNoBk_"
   },
   "source": [
    "# Sentiment Analysis: Utilização do pacote NLTK para a Análise de Sentimentos no Python\n"
   ]
  },
  {
   "cell_type": "markdown",
   "metadata": {
    "id": "OTi8PDvioh0N"
   },
   "source": [
    "## Pré-processamento"
   ]
  },
  {
   "cell_type": "markdown",
   "metadata": {
    "id": "JGUl37a_od0d"
   },
   "source": [
    "### Imports"
   ]
  },
  {
   "cell_type": "code",
   "execution_count": null,
   "metadata": {
    "colab": {
     "base_uri": "https://localhost:8080/"
    },
    "id": "IHjnR0_OoczF",
    "outputId": "a05e1dd4-53d8-4563-fcf4-0a1096173c77"
   },
   "outputs": [
    {
     "name": "stdout",
     "output_type": "stream",
     "text": [
      "[nltk_data] Downloading package punkt to /root/nltk_data...\n",
      "[nltk_data]   Unzipping tokenizers/punkt.zip.\n",
      "[nltk_data] Downloading package stopwords to /root/nltk_data...\n",
      "[nltk_data]   Unzipping corpora/stopwords.zip.\n",
      "[nltk_data] Downloading package wordnet to /root/nltk_data...\n",
      "[nltk_data]   Unzipping corpora/wordnet.zip.\n"
     ]
    }
   ],
   "source": [
    "# pip install nltk\n",
    "import nltk\n",
    "nltk.download('punkt')\n",
    "nltk.download('stopwords')\n",
    "nltk.download('wordnet')\n",
    "from nltk.tokenize import sent_tokenize, word_tokenize # Tokenizing\n",
    "from nltk.probability import FreqDist # Frequencias das palavras\n",
    "from nltk.corpus import stopwords # Stopwords\n",
    "from nltk.stem import PorterStemmer # Stemming\n",
    "from nltk.stem.wordnet import WordNetLemmatizer # Lemmatization\n",
    "\n",
    "import re\n",
    "import pandas as pd\n",
    "import matplotlib.pyplot as plt\n",
    "from sklearn import metrics\n",
    "from sklearn.feature_extraction.text import CountVectorizer\n",
    "from sklearn.naive_bayes import MultinomialNB\n",
    "from sklearn.ensemble import RandomForestClassifier\n",
    "from sklearn.model_selection import train_test_split\n",
    "from sklearn.ensemble import AdaBoostClassifier\n"
   ]
  },
  {
   "cell_type": "markdown",
   "metadata": {
    "id": "KJfLtBwfnEME"
   },
   "source": [
    "### Tokenizing \n",
    "\n",
    "Usando como exemplo o texto: \"Hello Mr. Smith, how are you doing today? The weather is great, and city is awesome. The sky is pinkish-blue. You shouldn't eat cardboard\"\n",
    "\n",
    "Podemos quebrá-lo em palavras utilizando a função `word_tokenize`:\n"
   ]
  },
  {
   "cell_type": "code",
   "execution_count": null,
   "metadata": {
    "colab": {
     "base_uri": "https://localhost:8080/"
    },
    "id": "RJUhhPg8ozg2",
    "outputId": "01dcad0d-fd89-455f-dcd6-750306fd0e5b"
   },
   "outputs": [
    {
     "name": "stdout",
     "output_type": "stream",
     "text": [
      "['Hello', 'Mr.', 'Smith', ',', 'how', 'are', 'you', 'doing', 'today', '?', 'The', 'weather', 'is', 'great', ',', 'and', 'city', 'is', 'awesome', '.', 'The', 'sky', 'is', 'pinkish-blue', '.', 'You', 'should', \"n't\", 'eat', 'cardboard']\n"
     ]
    }
   ],
   "source": [
    "text = \"\"\"Hello Mr. Smith, how are you doing today? \n",
    "  The weather is great, and city is awesome.\n",
    "  The sky is pinkish-blue. You shouldn't eat cardboard\n",
    "\"\"\"\n",
    "tokenized_text = word_tokenize(text)\n",
    "print(tokenized_text)"
   ]
  },
  {
   "cell_type": "markdown",
   "metadata": {
    "id": "0j5PM0lPn1sR"
   },
   "source": [
    "Ou podemos separar por sentença utilizando a `sent_tokenize`: "
   ]
  },
  {
   "cell_type": "code",
   "execution_count": null,
   "metadata": {
    "colab": {
     "base_uri": "https://localhost:8080/"
    },
    "id": "dJ7qoUPhoKU2",
    "outputId": "a2b8cf7e-f94a-40e6-9e32-7025e420adea"
   },
   "outputs": [
    {
     "name": "stdout",
     "output_type": "stream",
     "text": [
      "['Hello Mr. Smith, how are you doing today?', 'The weather is great, and city is awesome.', 'The sky is pinkish-blue.', \"You shouldn't eat cardboard\"]\n"
     ]
    }
   ],
   "source": [
    "tokenized_text2 = sent_tokenize(text)\n",
    "print(tokenized_text2)"
   ]
  },
  {
   "cell_type": "markdown",
   "metadata": {
    "id": "mZ-HsfRurGFq"
   },
   "source": [
    "A separação por sentença é utilizada quando leva-se em conta a dependência da ordem das palavras. Nesse estudo, consideramos que a palavra terá o mesmo significado independente da posição que estiver, por isso, usaremos a separação por palavra."
   ]
  },
  {
   "cell_type": "markdown",
   "metadata": {
    "id": "qww1Yw-btnXW"
   },
   "source": [
    "### Lemmatization e Stemming"
   ]
  },
  {
   "cell_type": "markdown",
   "metadata": {
    "id": "D-JvySYEVx_j"
   },
   "source": [
    "A lemmatization pode ser feita através do `WordNetLemmatizer().lemmatize()` e o stemming através do `PorterStemmer().stem()`. Os dois pertencem à biblioteca NLTK."
   ]
  },
  {
   "cell_type": "code",
   "execution_count": null,
   "metadata": {
    "colab": {
     "base_uri": "https://localhost:8080/"
    },
    "id": "S3f-ojKvtqP8",
    "outputId": "55609be2-2c04-4e16-94a8-939a9a44d8c9"
   },
   "outputs": [
    {
     "name": "stdout",
     "output_type": "stream",
     "text": [
      "Stemming words:\n",
      "['hello', 'mr.', 'smith', ',', 'how', 'are', 'you', 'do', 'today', '?', 'the', 'weather', 'is', 'great', ',', 'and', 'citi', 'is', 'awesom', '.', 'the', 'sky', 'is', 'pinkish-blu', '.', 'you', 'should', \"n't\", 'eat', 'cardboard']\n",
      "Lemmatization words:\n",
      "['Hello', 'Mr.', 'Smith', ',', 'how', 'be', 'you', 'do', 'today', '?', 'The', 'weather', 'be', 'great', ',', 'and', 'city', 'be', 'awesome', '.', 'The', 'sky', 'be', 'pinkish-blue', '.', 'You', 'should', \"n't\", 'eat', 'cardboard']\n"
     ]
    }
   ],
   "source": [
    "# Stemming\n",
    "ps = PorterStemmer()\n",
    "stemmed_words = [ps.stem(w) for w in tokenized_text]\n",
    "print(\"Stemming words:\")\n",
    "print(stemmed_words)\n",
    "\n",
    "# Lemmatization\n",
    "lem = WordNetLemmatizer()\n",
    "lemmed_words = [lem.lemmatize(word, \"v\") for word in tokenized_text]\n",
    "print(\"Lemmatization words:\")\n",
    "print(lemmed_words)\n"
   ]
  },
  {
   "cell_type": "markdown",
   "metadata": {
    "id": "UcFBdII2vPSa"
   },
   "source": [
    "Podemos ver que nos dois casos a palavra \"doing\" se tornou \"do\". Entretando, as palavras \"is\" e \"are\" no *stemming* continuaram a mesma, enquanto que no *lemmatization* as duas viraram \"be\".\n",
    "\n",
    "Portanto, por conta do *lemmatization* pegar o núcleo da palavra, ele é a mais recomendado para uma análise mais precisa."
   ]
  },
  {
   "cell_type": "markdown",
   "metadata": {
    "id": "kkCThaEbr7eR"
   },
   "source": [
    "### Stopwords"
   ]
  },
  {
   "cell_type": "markdown",
   "metadata": {
    "id": "U6T07uiFsEgB"
   },
   "source": [
    "Aqui determinamos as palavras que iremos tirar do estudo. No pacote ***NLTK*** já temos um banco de dados com as stopwords: `stopwords.words(\"english\")`."
   ]
  },
  {
   "cell_type": "code",
   "execution_count": null,
   "metadata": {
    "colab": {
     "base_uri": "https://localhost:8080/"
    },
    "id": "uN659to3r-ko",
    "outputId": "ffe0e9d4-b78e-4a16-e638-b6842190e1f4"
   },
   "outputs": [
    {
     "data": {
      "text/plain": [
       "['i', 'me', 'my', 'myself', 'we']"
      ]
     },
     "execution_count": 24,
     "metadata": {
      "tags": []
     },
     "output_type": "execute_result"
    }
   ],
   "source": [
    "stop_words = list(stopwords.words(\"english\"))\n",
    "stop_words[0:5]"
   ]
  },
  {
   "cell_type": "markdown",
   "metadata": {
    "id": "xNq6-QAPwrhA"
   },
   "source": [
    "### Data Cleaning"
   ]
  },
  {
   "cell_type": "markdown",
   "metadata": {
    "id": "U7HRfxuIwtbw"
   },
   "source": [
    "Nessa parte nós tiramos caracteres especiais, deixamos todas as palavras minúsculas e tiramos espaços em branco. Aqui usamos o pacote ***re*** do python, que nos permite trabalhar com string facilmente."
   ]
  },
  {
   "cell_type": "code",
   "execution_count": null,
   "metadata": {
    "colab": {
     "base_uri": "https://localhost:8080/"
    },
    "id": "JHkOd-HnxVWf",
    "outputId": "f963be10-a4b9-40f4-a468-46e2f0cce114"
   },
   "outputs": [
    {
     "name": "stdout",
     "output_type": "stream",
     "text": [
      "['hello', 'mr', 'smith', 'today', 'weather', 'great', 'city', 'awesome', 'sky', 'pinkishblue', 'nt', 'eat', 'cardboard']\n"
     ]
    }
   ],
   "source": [
    "processed_features = []\n",
    "\n",
    "for word in lemmed_words:\n",
    "    # Remove todos os caracteres especiais, incluindo numeros\n",
    "    processed_feature = re.sub(r'\\W', ' ', str(word))\n",
    "    # Converte para minusculo\n",
    "    processed_feature = processed_feature.lower()\n",
    "    # Tira espaços em branco multiplos\n",
    "    processed_feature = re.sub(r'\\s+', '', processed_feature, flags=re.I)\n",
    "    # Adcionar na lista\n",
    "    if processed_feature not in stop_words and processed_feature != '':\n",
    "      processed_features.append(processed_feature)\n",
    "print(processed_features)\n"
   ]
  },
  {
   "cell_type": "markdown",
   "metadata": {
    "id": "VZ6VuYyICEdU"
   },
   "source": [
    "### Função com tudo junto"
   ]
  },
  {
   "cell_type": "markdown",
   "metadata": {
    "id": "rwXIJqmRcZEa"
   },
   "source": [
    "Juntando todos as funções que aprendemos para formar uma só, facilitando na hora de alterar todas as frases."
   ]
  },
  {
   "cell_type": "code",
   "execution_count": null,
   "metadata": {
    "id": "itrcSucDCIRc"
   },
   "outputs": [],
   "source": [
    "def frase_limpa(text):\n",
    "  lem = WordNetLemmatizer()\n",
    "  stop_words = list(stopwords.words(\"english\"))\n",
    "\n",
    "  tokenized_text = word_tokenize(text)\n",
    "  processed_features = []\n",
    "  for word in tokenized_text:\n",
    "    # Remove todos os caracteres especiais, incluindo numeros\n",
    "    processed_feature = re.sub('[^a-zA-Z]', ' ', str(word))\n",
    "    # Lemmatization\n",
    "    processed_feature = lem.lemmatize(processed_feature, \"v\")\n",
    "    # Converte para minusculo\n",
    "    processed_feature = processed_feature.lower()\n",
    "    # Tira espaços em branco multiplos\n",
    "    processed_feature = re.sub(r'\\s+', '', processed_feature, flags=re.I)\n",
    "    # Adcionar na lista\n",
    "    if processed_feature not in stop_words and processed_feature != '':\n",
    "      processed_features.append(processed_feature)\n",
    "  clean_phrase = ' '.join(x for x in processed_features)\n",
    "  return clean_phrase"
   ]
  },
  {
   "cell_type": "code",
   "execution_count": null,
   "metadata": {
    "colab": {
     "base_uri": "https://localhost:8080/"
    },
    "id": "Yw01CnllEK14",
    "outputId": "d84b72cd-23ba-46af-f91a-f761b40cb836"
   },
   "outputs": [
    {
     "name": "stdout",
     "output_type": "stream",
     "text": [
      "['jnf', 'fisje', 'ikjn']\n"
     ]
    }
   ],
   "source": [
    "print(frase_limpa(\"9485jná-f fisje ikj53n\").split())"
   ]
  },
  {
   "cell_type": "markdown",
   "metadata": {
    "id": "4mdlmQKJoK52"
   },
   "source": [
    "## Exemplo com uma base de reviews\n",
    "\n",
    "Depois de ver como tratar o texto no Python, faremos isso para uma base real. \n",
    "\n",
    "Essa base originalmente continha mais de 500 mil linhas, entretando, tivemos problemas computacionais e resolvemos trabalhar com as primeiras 50 mil linhas. [Download da base.](https://www.kaggle.com/snap/amazon-fine-food-reviews?select=Reviews.csv)\n",
    "\n",
    "A base de dados contém reviews de *Fine Food* coletada da *Amazon*, site de compras. Nessa base temos as colunas:\n",
    " - **ID**: ID da linha;\n",
    " - **ProductID**: ID do produto;\n",
    " - **UserId**: ID do usuário; \n",
    " - **ProfileName**: nome do usuário; \n",
    " - **HelpfulnessNumerator** e **HelpfulnessDenominator**: número de usuários que acharam o review útil; \n",
    " - **Score**: escore do review;\n",
    " - **Time**: tempo do review de outubro de 1999 até outubro de 2012;\n",
    " - **Summary**: resumo do review;\n",
    " - **Text**: o review. \n",
    " \n",
    " Nós classificamos o escore (**Score**) como:\n",
    "1. Negativo\n",
    "2. Pouco negativo\n",
    "3. Neutro\n",
    "4. Pouco positivo\n",
    "5. Positivo  \n",
    "\n",
    "O objetivo é pegar novos reviews sem escore e classificá-los com base nas palavras escritas na avaliação."
   ]
  },
  {
   "cell_type": "markdown",
   "metadata": {
    "id": "Jy8Z0AbyPUmY"
   },
   "source": [
    "### Leitura e análise dos dados"
   ]
  },
  {
   "cell_type": "code",
   "execution_count": null,
   "metadata": {
    "colab": {
     "base_uri": "https://localhost:8080/",
     "height": 966
    },
    "id": "QBMQEAtK6E52",
    "outputId": "199c8015-ecbd-4643-f7da-5fdac2e16da6"
   },
   "outputs": [
    {
     "data": {
      "text/html": [
       "<div>\n",
       "<style scoped>\n",
       "    .dataframe tbody tr th:only-of-type {\n",
       "        vertical-align: middle;\n",
       "    }\n",
       "\n",
       "    .dataframe tbody tr th {\n",
       "        vertical-align: top;\n",
       "    }\n",
       "\n",
       "    .dataframe thead th {\n",
       "        text-align: right;\n",
       "    }\n",
       "</style>\n",
       "<table border=\"1\" class=\"dataframe\">\n",
       "  <thead>\n",
       "    <tr style=\"text-align: right;\">\n",
       "      <th></th>\n",
       "      <th>Id</th>\n",
       "      <th>ProductId</th>\n",
       "      <th>UserId</th>\n",
       "      <th>ProfileName</th>\n",
       "      <th>HelpfulnessNumerator</th>\n",
       "      <th>HelpfulnessDenominator</th>\n",
       "      <th>Score</th>\n",
       "      <th>Time</th>\n",
       "      <th>Summary</th>\n",
       "      <th>Text</th>\n",
       "    </tr>\n",
       "  </thead>\n",
       "  <tbody>\n",
       "    <tr>\n",
       "      <th>0</th>\n",
       "      <td>1</td>\n",
       "      <td>B001E4KFG0</td>\n",
       "      <td>A3SGXH7AUHU8GW</td>\n",
       "      <td>delmartian</td>\n",
       "      <td>1</td>\n",
       "      <td>1</td>\n",
       "      <td>5</td>\n",
       "      <td>1303862400</td>\n",
       "      <td>Good Quality Dog Food</td>\n",
       "      <td>I have bought several of the Vitality canned d...</td>\n",
       "    </tr>\n",
       "    <tr>\n",
       "      <th>1</th>\n",
       "      <td>2</td>\n",
       "      <td>B00813GRG4</td>\n",
       "      <td>A1D87F6ZCVE5NK</td>\n",
       "      <td>dll pa</td>\n",
       "      <td>0</td>\n",
       "      <td>0</td>\n",
       "      <td>1</td>\n",
       "      <td>1346976000</td>\n",
       "      <td>Not as Advertised</td>\n",
       "      <td>Product arrived labeled as Jumbo Salted Peanut...</td>\n",
       "    </tr>\n",
       "    <tr>\n",
       "      <th>2</th>\n",
       "      <td>3</td>\n",
       "      <td>B000LQOCH0</td>\n",
       "      <td>ABXLMWJIXXAIN</td>\n",
       "      <td>Natalia Corres \"Natalia Corres\"</td>\n",
       "      <td>1</td>\n",
       "      <td>1</td>\n",
       "      <td>4</td>\n",
       "      <td>1219017600</td>\n",
       "      <td>\"Delight\" says it all</td>\n",
       "      <td>This is a confection that has been around a fe...</td>\n",
       "    </tr>\n",
       "    <tr>\n",
       "      <th>3</th>\n",
       "      <td>4</td>\n",
       "      <td>B000UA0QIQ</td>\n",
       "      <td>A395BORC6FGVXV</td>\n",
       "      <td>Karl</td>\n",
       "      <td>3</td>\n",
       "      <td>3</td>\n",
       "      <td>2</td>\n",
       "      <td>1307923200</td>\n",
       "      <td>Cough Medicine</td>\n",
       "      <td>If you are looking for the secret ingredient i...</td>\n",
       "    </tr>\n",
       "    <tr>\n",
       "      <th>4</th>\n",
       "      <td>5</td>\n",
       "      <td>B006K2ZZ7K</td>\n",
       "      <td>A1UQRSCLF8GW1T</td>\n",
       "      <td>Michael D. Bigham \"M. Wassir\"</td>\n",
       "      <td>0</td>\n",
       "      <td>0</td>\n",
       "      <td>5</td>\n",
       "      <td>1350777600</td>\n",
       "      <td>Great taffy</td>\n",
       "      <td>Great taffy at a great price.  There was a wid...</td>\n",
       "    </tr>\n",
       "    <tr>\n",
       "      <th>...</th>\n",
       "      <td>...</td>\n",
       "      <td>...</td>\n",
       "      <td>...</td>\n",
       "      <td>...</td>\n",
       "      <td>...</td>\n",
       "      <td>...</td>\n",
       "      <td>...</td>\n",
       "      <td>...</td>\n",
       "      <td>...</td>\n",
       "      <td>...</td>\n",
       "    </tr>\n",
       "    <tr>\n",
       "      <th>49995</th>\n",
       "      <td>49996</td>\n",
       "      <td>B00430B73W</td>\n",
       "      <td>AKW867T7C6HF8</td>\n",
       "      <td>HWJ3</td>\n",
       "      <td>0</td>\n",
       "      <td>0</td>\n",
       "      <td>5</td>\n",
       "      <td>1261180800</td>\n",
       "      <td>Grown to really like them</td>\n",
       "      <td>My sister introduced me to these. They have be...</td>\n",
       "    </tr>\n",
       "    <tr>\n",
       "      <th>49996</th>\n",
       "      <td>49997</td>\n",
       "      <td>B00430B73W</td>\n",
       "      <td>A2PEHNEDMHOYTW</td>\n",
       "      <td>L. Allen</td>\n",
       "      <td>0</td>\n",
       "      <td>0</td>\n",
       "      <td>5</td>\n",
       "      <td>1258934400</td>\n",
       "      <td>Healthy Snack at a great price!</td>\n",
       "      <td>A friend recommended these bars and I fell in ...</td>\n",
       "    </tr>\n",
       "    <tr>\n",
       "      <th>49997</th>\n",
       "      <td>49998</td>\n",
       "      <td>B00430B73W</td>\n",
       "      <td>A2QH2KF2IAB143</td>\n",
       "      <td>J. A. Meyers \"Jan\"</td>\n",
       "      <td>0</td>\n",
       "      <td>0</td>\n",
       "      <td>5</td>\n",
       "      <td>1257379200</td>\n",
       "      <td>Raw Revolution Hazelnut Cashew</td>\n",
       "      <td>Fabulous!  I take one to work with me every da...</td>\n",
       "    </tr>\n",
       "    <tr>\n",
       "      <th>49998</th>\n",
       "      <td>49999</td>\n",
       "      <td>B00430B73W</td>\n",
       "      <td>AMX286UGXISMA</td>\n",
       "      <td>Aaron Dragushan</td>\n",
       "      <td>0</td>\n",
       "      <td>0</td>\n",
       "      <td>4</td>\n",
       "      <td>1247702400</td>\n",
       "      <td>fantastic, but chew carefully</td>\n",
       "      <td>I love these bars and will continue to buy the...</td>\n",
       "    </tr>\n",
       "    <tr>\n",
       "      <th>49999</th>\n",
       "      <td>50000</td>\n",
       "      <td>B00430B73W</td>\n",
       "      <td>A3042WJDYJ22S8</td>\n",
       "      <td>Sunny Side Up \"CoffeeBuzz\"</td>\n",
       "      <td>0</td>\n",
       "      <td>0</td>\n",
       "      <td>5</td>\n",
       "      <td>1178755200</td>\n",
       "      <td>Very Tasty and Healthy.</td>\n",
       "      <td>These are very good; nutritious, great flavor ...</td>\n",
       "    </tr>\n",
       "  </tbody>\n",
       "</table>\n",
       "<p>50000 rows × 10 columns</p>\n",
       "</div>"
      ],
      "text/plain": [
       "          Id  ...                                               Text\n",
       "0          1  ...  I have bought several of the Vitality canned d...\n",
       "1          2  ...  Product arrived labeled as Jumbo Salted Peanut...\n",
       "2          3  ...  This is a confection that has been around a fe...\n",
       "3          4  ...  If you are looking for the secret ingredient i...\n",
       "4          5  ...  Great taffy at a great price.  There was a wid...\n",
       "...      ...  ...                                                ...\n",
       "49995  49996  ...  My sister introduced me to these. They have be...\n",
       "49996  49997  ...  A friend recommended these bars and I fell in ...\n",
       "49997  49998  ...  Fabulous!  I take one to work with me every da...\n",
       "49998  49999  ...  I love these bars and will continue to buy the...\n",
       "49999  50000  ...  These are very good; nutritious, great flavor ...\n",
       "\n",
       "[50000 rows x 10 columns]"
      ]
     },
     "execution_count": 4,
     "metadata": {
      "tags": []
     },
     "output_type": "execute_result"
    }
   ],
   "source": [
    "data = pd.read_csv('https://raw.githubusercontent.com/luckermos/databases/main/SentimentAnalysis/Reviews.csv')\n",
    "data"
   ]
  },
  {
   "cell_type": "markdown",
   "metadata": {
    "id": "dWcjOl6b3gmW"
   },
   "source": [
    "Tiraremos do modelo as variáveis: ***Id, ProductId, UserId, ProfileName, HelpfulnessNumerator, HelpfulnessDenominator, Score, Time*** porque não são relevantes para essa análise. \n",
    "\n",
    "***Summary e Text*** são as frases e ***Score*** é a variável resposta que indica o sentimento expresso pela frase."
   ]
  },
  {
   "cell_type": "code",
   "execution_count": null,
   "metadata": {
    "colab": {
     "base_uri": "https://localhost:8080/",
     "height": 295
    },
    "id": "Wv7ICRks3gYd",
    "outputId": "92ed292f-547e-4205-ec96-8862fff8cfd5"
   },
   "outputs": [
    {
     "data": {
      "image/png": "[encoded data removed]",
      "text/plain": [
       "<Figure size 432x288 with 1 Axes>"
      ]
     },
     "metadata": {
      "needs_background": "light",
      "tags": []
     },
     "output_type": "display_data"
    }
   ],
   "source": [
    "Sentiment_count = data.groupby('Score').count()\n",
    "plt.bar(Sentiment_count.index.values, Sentiment_count['Text'])\n",
    "plt.title(\"Quantidade de Score\")\n",
    "plt.xlabel('Review Sentiments')\n",
    "plt.ylabel('Number of Review')\n",
    "plt.show()"
   ]
  },
  {
   "cell_type": "markdown",
   "metadata": {
    "id": "2Di5weKQA5yh"
   },
   "source": [
    "A maioria das frases são **positivas**. E parece haver um desequilíbrio entre avaliações positivas e negativas, temos muito mais review positivos do que negativos. Portanto, as clases estão desbalanceadas e isso pode ser um problema para o modelo."
   ]
  },
  {
   "cell_type": "markdown",
   "metadata": {
    "id": "BOWRslzRPRGN"
   },
   "source": [
    "### Pré-Processamento\n"
   ]
  },
  {
   "cell_type": "markdown",
   "metadata": {
    "id": "Fh7omsHgIsXf"
   },
   "source": [
    "Nessa parte, juntamos as duas colunas de texto, fazemos todo o pré-processamento dito anteriormente para deixar o texto \"limpo\" e removemos linhas duplicadas da tabela."
   ]
  },
  {
   "cell_type": "code",
   "execution_count": null,
   "metadata": {
    "colab": {
     "base_uri": "https://localhost:8080/"
    },
    "id": "vuM4nySf2csX",
    "outputId": "bb35eb11-2c90-4092-8bd4-3c8b917646b6"
   },
   "outputs": [
    {
     "name": "stderr",
     "output_type": "stream",
     "text": [
      "/usr/local/lib/python3.6/dist-packages/ipykernel_launcher.py:4: UserWarning: Boolean Series key will be reindexed to match DataFrame index.\n",
      "  after removing the cwd from sys.path.\n"
     ]
    }
   ],
   "source": [
    "# \"Limpando\" as frases\n",
    "data['Phrase'] = data[\"Summary\"] + \" \" + data[\"Text\"]\n",
    "data['Phrase'] = data['Phrase'].map(lambda x: frase_limpa(str(x)))\n",
    "data = data.filter(items=['Phrase', 'Score']).drop_duplicates()[data['Phrase'] != \"\"]"
   ]
  },
  {
   "cell_type": "markdown",
   "metadata": {
    "id": "B_rVRIIuQz8d"
   },
   "source": [
    "### Base de Treino e Teste"
   ]
  },
  {
   "cell_type": "code",
   "execution_count": null,
   "metadata": {
    "id": "wZvCnumqQths"
   },
   "outputs": [],
   "source": [
    "X_train, X_test, y_train, y_test = train_test_split(\n",
    "    data['Phrase'], data['Score'], test_size=0.25, random_state=123)"
   ]
  },
  {
   "cell_type": "markdown",
   "metadata": {
    "id": "TTtFyH3Plxjn"
   },
   "source": [
    "#### Bag of Word"
   ]
  },
  {
   "cell_type": "code",
   "execution_count": null,
   "metadata": {
    "colab": {
     "base_uri": "https://localhost:8080/"
    },
    "id": "A6_v_7BQlvkw",
    "outputId": "80e853b8-baa6-442f-f490-029ee8b83960"
   },
   "outputs": [
    {
     "name": "stdout",
     "output_type": "stream",
     "text": [
      "Tamanho de matrix de treino:\n",
      "(34710, 38184)\n",
      "\n",
      "Cada coluna da matrix conta o número de vezes que a palavra aparece:\n",
      "['aa', 'aaa', 'aaaa', 'aaaaaaaaaaaaaaa', 'aaaaaaahhhhhh', 'aaaaaawwwwwwwwww', 'aaaaahhh', 'aaaand', 'aaaarrrrrgggghhhhh', 'aaaccchhh'] ...\n"
     ]
    }
   ],
   "source": [
    "# Usado para fazer a bag of word\n",
    "vectorizer = CountVectorizer()\n",
    "X_train = vectorizer.fit_transform(X_train) # para teste vectorizer.transform(newdata)\n",
    "print(\"Tamanho de matrix de treino:\")\n",
    "print(X_train.shape)\n",
    "print(\"\\nCada coluna da matrix conta o número de vezes que a palavra aparece:\")\n",
    "print(vectorizer.get_feature_names()[0:10], end=\" \")\n",
    "print(\"...\")\n",
    "# Teste\n",
    "X_test = vectorizer.transform(X_test)"
   ]
  },
  {
   "cell_type": "markdown",
   "metadata": {
    "id": "Ghe6x5ORhRsp"
   },
   "source": [
    "Podemos observar que temos mais mais variáveis do que observações. Neste caso, temos dependência entre as colunas. Isso acontece por termos muitas palavras distintas nos textos."
   ]
  },
  {
   "cell_type": "markdown",
   "metadata": {
    "id": "a_niIpYkzIvt"
   },
   "source": [
    "### Ajuste do Modelo\n",
    "\n"
   ]
  },
  {
   "cell_type": "markdown",
   "metadata": {
    "id": "ttZiYFZGSgkS"
   },
   "source": [
    "#### Naive Bayes Multinomial\n",
    "\n",
    "Iremos utilizar o algoritmo de classificação Naive Bayes Multinomial\n",
    "\n"
   ]
  },
  {
   "cell_type": "code",
   "execution_count": null,
   "metadata": {
    "colab": {
     "base_uri": "https://localhost:8080/"
    },
    "id": "u6CnRNFJQb87",
    "outputId": "0eb44bbe-5a73-476d-d53f-80ba8dbdf1f9"
   },
   "outputs": [
    {
     "name": "stdout",
     "output_type": "stream",
     "text": [
      "Acurácia: 0.6866303690260133\n"
     ]
    }
   ],
   "source": [
    "model_NB = MultinomialNB().fit(X_train, y_train)\n",
    "predicted = model_NB.predict(X_test)\n",
    "print(\"Acurácia:\",metrics.accuracy_score(y_test, predicted))"
   ]
  },
  {
   "cell_type": "markdown",
   "metadata": {
    "id": "n_tkNOB2nWL7"
   },
   "source": [
    "Obtivemos a primeira acurácia, agora iremos compará-la com os outros modelos.\n"
   ]
  },
  {
   "cell_type": "markdown",
   "metadata": {
    "id": "ydxE5JokMtLd"
   },
   "source": [
    "#### SVM"
   ]
  },
  {
   "cell_type": "markdown",
   "metadata": {
    "id": "QptImMY9Orn8"
   },
   "source": [
    "Utilizando o *Support Vector Machine* para classificação:"
   ]
  },
  {
   "cell_type": "code",
   "execution_count": null,
   "metadata": {
    "colab": {
     "base_uri": "https://localhost:8080/"
    },
    "id": "OOMRXR7FMpIg",
    "outputId": "f7f16162-e28c-4d21-95cc-8ca0108d2bb6"
   },
   "outputs": [
    {
     "name": "stdout",
     "output_type": "stream",
     "text": [
      "Acurácia: 0.6977789300838303\n"
     ]
    }
   ],
   "source": [
    "from sklearn.svm import SVC\n",
    "\n",
    "model_SVM = SVC().fit(X_train, y_train)\n",
    "predicted = model_SVM.predict(X_test)\n",
    "print(\"Acurácia:\",metrics.accuracy_score(y_test, predicted))"
   ]
  },
  {
   "cell_type": "markdown",
   "metadata": {
    "id": "X3KnRfUlOzQk"
   },
   "source": [
    "Esse modelo obteve resultados um pouco melhores do que o de Bayes, entretanto, iremos olhar outros modelos também."
   ]
  },
  {
   "cell_type": "markdown",
   "metadata": {
    "id": "zpwbsu2dSaJ5"
   },
   "source": [
    "#### Random Forest"
   ]
  },
  {
   "cell_type": "markdown",
   "metadata": {
    "id": "jCTWnvsCiAi5"
   },
   "source": [
    "A procura de um modelo melhor, será testado o algoritmo *Random Forest*."
   ]
  },
  {
   "cell_type": "code",
   "execution_count": null,
   "metadata": {
    "colab": {
     "base_uri": "https://localhost:8080/"
    },
    "id": "OeloAfdyScnQ",
    "outputId": "9c86b407-f9b4-47b9-9814-283c2fd4b050"
   },
   "outputs": [
    {
     "name": "stdout",
     "output_type": "stream",
     "text": [
      "Acurácia: 0.6517154956356408\n"
     ]
    }
   ],
   "source": [
    "model_rf = RandomForestClassifier().fit(X_train, y_train)\n",
    "#param = {}\n",
    "#gs = GridSearchCV(model_rf, param, cv = 5, n_jobs = -1)\n",
    "#model_rf = gs.fit(X_train, y_train)\n",
    "predicted = model_rf.predict(X_test)\n",
    "print(\"Acurácia:\",metrics.accuracy_score(y_test, predicted))"
   ]
  },
  {
   "cell_type": "markdown",
   "metadata": {
    "id": "lZePtv9SnelW"
   },
   "source": [
    "O resultado obtido foi menos adequado que o anterior."
   ]
  },
  {
   "cell_type": "markdown",
   "metadata": {
    "id": "G7MTUaTiA5EA"
   },
   "source": [
    "#### Rede Neural\n"
   ]
  },
  {
   "cell_type": "markdown",
   "metadata": {
    "id": "cXdZIrhhiIrX"
   },
   "source": [
    "Agora, uma rede neural será treinada:"
   ]
  },
  {
   "cell_type": "code",
   "execution_count": null,
   "metadata": {
    "colab": {
     "base_uri": "https://localhost:8080/"
    },
    "id": "NEnHWWVFA9bd",
    "outputId": "2d7d40d3-24ac-44c6-8ece-31df56adbd88"
   },
   "outputs": [
    {
     "name": "stdout",
     "output_type": "stream",
     "text": [
      "Acurácia: 0.702618615504278\n"
     ]
    }
   ],
   "source": [
    "clf = AdaBoostClassifier(n_estimators=1000, random_state=1, learning_rate=0.6).fit(X_train, y_train)\n",
    "predicted = clf.predict(X_test)\n",
    "print(\"Acurácia:\",metrics.accuracy_score(y_test, predicted))\n"
   ]
  },
  {
   "cell_type": "markdown",
   "metadata": {
    "id": "Kt5inuHen_pY"
   },
   "source": [
    "A rede neural com a taxa de aprendizagem igual a 0.6 foi o melhor modelo obtido, resultando em uma acurácia igual a 70% aproximadamente. \n",
    "\n",
    "#### Métricas para o modelo final\n",
    "\n",
    "Como a Rede Neural foi o modelo que deu maior acurácia, iremos usar ele como o modelo final. \n",
    "\n",
    "##### Matriz de confusão:"
   ]
  },
  {
   "cell_type": "code",
   "execution_count": null,
   "metadata": {
    "colab": {
     "base_uri": "https://localhost:8080/",
     "height": 296
    },
    "id": "27JDr3zHM82U",
    "outputId": "375212fd-96a7-4dcb-d27e-fb9bd8d1b1d7"
   },
   "outputs": [
    {
     "data": {
      "text/plain": [
       "<sklearn.metrics._plot.confusion_matrix.ConfusionMatrixDisplay at 0x7fe5bf0b8f98>"
      ]
     },
     "execution_count": 14,
     "metadata": {
      "tags": []
     },
     "output_type": "execute_result"
    },
    {
     "data": {
      "image/png": "[encoded data removed]",
      "text/plain": [
       "<Figure size 432x288 with 2 Axes>"
      ]
     },
     "metadata": {
      "needs_background": "light",
      "tags": []
     },
     "output_type": "display_data"
    }
   ],
   "source": [
    "metrics.confusion_matrix(y_test, predicted)\n",
    "metrics.plot_confusion_matrix(clf, X_test, y_test)"
   ]
  },
  {
   "cell_type": "markdown",
   "metadata": {
    "id": "US1SNUYfiNtG"
   },
   "source": [
    "\n",
    "\n",
    "Com a matriz de confusão podemos observar que a maioria dos  textos estão sendo classiicados como  sentimento **possitivo** (classe 5). Isso se deve ao fato da base estar desbalanceada."
   ]
  },
  {
   "cell_type": "code",
   "execution_count": null,
   "metadata": {
    "colab": {
     "base_uri": "https://localhost:8080/"
    },
    "id": "-2OyIMLBkPhB",
    "outputId": "43434dbe-40b6-469c-cba2-d19007f52f77"
   },
   "outputs": [
    {
     "name": "stdout",
     "output_type": "stream",
     "text": [
      "              precision    recall  f1-score   support\n",
      "\n",
      "           1       0.56      0.66      0.60       928\n",
      "           2       0.18      0.28      0.22       424\n",
      "           3       0.27      0.42      0.33       618\n",
      "           4       0.23      0.45      0.31       873\n",
      "           5       0.94      0.77      0.85      8728\n",
      "\n",
      "    accuracy                           0.70     11571\n",
      "   macro avg       0.44      0.52      0.46     11571\n",
      "weighted avg       0.79      0.70      0.74     11571\n",
      "\n"
     ]
    }
   ],
   "source": [
    "print(metrics.classification_report(predicted,y_test))"
   ]
  },
  {
   "cell_type": "markdown",
   "metadata": {
    "id": "0yoh54eaPwqC"
   },
   "source": [
    "Por fim, podemos ver que conseguimos detectar bem as reviews  **positivas** e as **negativas**, sendo que para as positivas a precisão é próxima de 1. Entretando, a precisão das classificações um **pouco negativas**, **neutras** e um **pouco positivas** não foram boas, o modelo tem dificuldades para predizê-las.\n",
    "\n",
    "Isso pode ocorrer por conta do desequilíbrio entre as classes monstrado na análise descritiva.\n",
    "\n",
    "Para todas as classificações temos uma acurácia de 70%, que não é uma acurácia perfeita, mas é o suficiente para esse tipo de estudo."
   ]
  }
 ],
 "metadata": {
  "colab": {
   "collapsed_sections": [],
   "name": "SentimentAnalysis.ipynb",
   "provenance": [],
   "toc_visible": true
  },
  "kernelspec": {
   "display_name": "Python 3",
   "language": "python",
   "name": "python3"
  },
  "language_info": {
   "codemirror_mode": {
    "name": "ipython",
    "version": 3
   },
   "file_extension": ".py",
   "mimetype": "text/x-python",
   "name": "python",
   "nbconvert_exporter": "python",
   "pygments_lexer": "ipython3",
   "version": "3.7.6"
  }
 },
 "nbformat": 4,
 "nbformat_minor": 1
}
